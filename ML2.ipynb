{
  "nbformat": 4,
  "nbformat_minor": 0,
  "metadata": {
    "colab": {
      "provenance": []
    },
    "kernelspec": {
      "name": "python3",
      "display_name": "Python 3"
    },
    "language_info": {
      "name": "python"
    }
  },
  "cells": [
    {
      "cell_type": "code",
      "source": [
        "import pandas as pd\n",
        "from sklearn.model_selection import train_test_split\n",
        "data = [\n",
        "        ('солнечно', True),\n",
        "        ('снег', False),\n",
        "        ('облачно', False),\n",
        "        ('дождь', False),\n",
        "        ('солнечно', True),\n",
        "        ('снег', False),\n",
        "        ('облачно', True),\n",
        "        ('снег', False),\n",
        "        ('солнечно', False),\n",
        "        ('облачно', True),\n",
        "        ('снег', True),\n",
        "        ('солнечно', True),\n",
        "        ('дождь', False),\n",
        "        ('дождь', True),\n",
        "        ('облачно', True),\n",
        "]\n",
        "# A - идем гулять\n",
        "# B - идет дождь\n",
        "\n",
        "table = pd.DataFrame(data, columns=[\"weather\", \"znach\"])\n",
        "\n",
        "prob_walk = (table['znach'].sum())/table[\"znach\"].count()\n",
        "prob_rain = table['weather'].value_counts()['дождь']/table[\"znach\"].count()\n",
        "\n",
        "weregoingtowalk=0\n",
        "rainingwhenwalking=0\n",
        "for i in range(0, 15):\n",
        "  if table['znach'][i] == True:\n",
        "    weregoingtowalk+=1\n",
        "    if table['weather'][i] == \"дождь\":\n",
        "      rainingwhenwalking+=1\n",
        "prob_ba = rainingwhenwalking/weregoingtowalk\n",
        "\n",
        "print((prob_walk*prob_ba)/prob_rain)"
      ],
      "metadata": {
        "colab": {
          "base_uri": "https://localhost:8080/"
        },
        "id": "Y_1MJbfAYGRb",
        "outputId": "c95e7b9f-11ec-4cf7-c25d-42313b4bb562"
      },
      "execution_count": null,
      "outputs": [
        {
          "output_type": "stream",
          "name": "stdout",
          "text": [
            "0.3333333333333333\n"
          ]
        }
      ]
    },
    {
      "cell_type": "code",
      "execution_count": null,
      "metadata": {
        "colab": {
          "base_uri": "https://localhost:8080/"
        },
        "id": "VzUiafIRgolU",
        "outputId": "7852df70-4be5-4b2e-938f-cef0944e70e0"
      },
      "outputs": [
        {
          "output_type": "stream",
          "name": "stdout",
          "text": [
            "<class 'pandas.core.frame.DataFrame'>\n",
            "Int64Index: 60603 entries, 0 to 62629\n",
            "Data columns (total 16 columns):\n",
            " #   Column          Non-Null Count  Dtype  \n",
            "---  ------          --------------  -----  \n",
            " 0   Unnamed: 0      60603 non-null  float64\n",
            " 1   UTC             60603 non-null  float64\n",
            " 2   Temperature[C]  60603 non-null  float64\n",
            " 3   Humidity[%]     60603 non-null  float64\n",
            " 4   TVOC[ppb]       60603 non-null  float64\n",
            " 5   eCO2[ppm]       60603 non-null  float64\n",
            " 6   Raw H2          60603 non-null  float64\n",
            " 7   Raw Ethanol     60603 non-null  float64\n",
            " 8   Pressure[hPa]   60603 non-null  float64\n",
            " 9   PM1.0           60603 non-null  float64\n",
            " 10  PM2.5           60603 non-null  float64\n",
            " 11  NC0.5           60603 non-null  float64\n",
            " 12  NC1.0           60603 non-null  float64\n",
            " 13  NC2.5           60603 non-null  float64\n",
            " 14  CNT             60603 non-null  float64\n",
            " 15  Fire Alarm      60603 non-null  float64\n",
            "dtypes: float64(16)\n",
            "memory usage: 7.9 MB\n",
            "\n",
            " 1.0    43293\n",
            "0.0    17310\n",
            "Name: Fire Alarm, dtype: int64\n"
          ]
        }
      ],
      "source": [
        "import pandas as pd\n",
        "import numpy as np\n",
        "from sklearn.datasets import make_classification\n",
        "import matplotlib.pyplot as plt\n",
        "from sklearn.model_selection import train_test_split\n",
        "from sklearn.utils import resample\n",
        "\n",
        "\n",
        "df = pd.read_csv(\"smoke_detector_task.csv\")\n",
        "\n",
        "df = df.replace('Yes',1).replace('No', 0).astype(float)\n",
        "\n",
        "df = df.dropna()\n",
        "data = df.drop_duplicates()\n",
        "df.info()\n",
        "print(\"\\n\", data['Fire Alarm'].value_counts())"
      ]
    },
    {
      "cell_type": "markdown",
      "source": [],
      "metadata": {
        "id": "OSQc8jcNLkDg"
      }
    },
    {
      "cell_type": "code",
      "source": [
        "y = df[\"Fire Alarm\"]\n",
        "X = df.drop([\"Fire Alarm\"], axis = 1)\n",
        "\n",
        "#X = X.to_numpy()\n"
      ],
      "metadata": {
        "id": "Ago2C1acLAzM"
      },
      "execution_count": null,
      "outputs": []
    },
    {
      "cell_type": "code",
      "source": [
        "df_majority_hight = df[df[\"Fire Alarm\"]==0.0]\n",
        "frames = [df_majority_hight]\n",
        "df_majority = pd.concat(frames)\n",
        "df_minority = df[df[\"Fire Alarm\"]==1.0]\n",
        "\n",
        "df_majority_downsampled = resample(df_majority, replace=True, n_samples=87403, random_state=123)\n",
        "df_downsampled = pd.concat([df_majority_downsampled, df_minority])\n",
        "\n",
        "df_down=df_downsampled.sample(frac=1)\n",
        "\n",
        "y = df_down[\"Fire Alarm\"]\n",
        "X = df_down.drop([\"Fire Alarm\"], axis=1)"
      ],
      "metadata": {
        "id": "c91PJmjvLlg8"
      },
      "execution_count": null,
      "outputs": []
    },
    {
      "cell_type": "code",
      "source": [
        "from sklearn.preprocessing import MinMaxScaler\n",
        "X_train, X_test, y_train, y_test = train_test_split(X, y, test_size=1/3)\n",
        "\n",
        "mms = MinMaxScaler()\n",
        "mms.fit(X_train)\n",
        "mms.transform(X_train)\n",
        "\n",
        "X_train_norm = pd.DataFrame(mms.transform(X_train), columns=X_test.columns)"
      ],
      "metadata": {
        "id": "EPa4bxEiMpyT"
      },
      "execution_count": null,
      "outputs": []
    },
    {
      "cell_type": "code",
      "source": [
        "X_test_norm = pd.DataFrame(mms.transform(X_test), columns=X_train.columns)\n",
        "X_test_norm.describe()"
      ],
      "metadata": {
        "colab": {
          "base_uri": "https://localhost:8080/",
          "height": 364
        },
        "id": "8T7aMvBONnWu",
        "outputId": "7ca0c743-43b7-45de-9dad-9a9fc73535fb"
      },
      "execution_count": null,
      "outputs": [
        {
          "output_type": "execute_result",
          "data": {
            "text/plain": [
              "         Unnamed: 0           UTC  Temperature[C]   Humidity[%]     TVOC[ppb]  \\\n",
              "count  43566.000000  43566.000000    43566.000000  43566.000000  43566.000000   \n",
              "mean       0.591298      0.280050        0.489069      0.539138      0.055869   \n",
              "std        0.333578      0.380160        0.180671      0.171095      0.195718   \n",
              "min        0.000000      0.000000        0.000000      0.000000      0.000000   \n",
              "25%        0.337787      0.052738        0.422431      0.499069      0.000783   \n",
              "50%        0.676731      0.118096        0.518129      0.580050      0.002683   \n",
              "75%        0.894250      0.170208        0.590932      0.645517      0.019000   \n",
              "max        1.000000      1.000000        1.000000      1.000000      1.000000   \n",
              "\n",
              "          eCO2[ppm]        Raw H2   Raw Ethanol  Pressure[hPa]         PM1.0  \\\n",
              "count  43566.000000  43566.000000  43566.000000   43566.000000  43566.000000   \n",
              "mean       0.007143      0.717195      0.757318       0.830971      0.012725   \n",
              "std        0.042247      0.116850      0.136035       0.145102      0.084556   \n",
              "min        0.000000      0.000000      0.000000       0.000000      0.000000   \n",
              "25%        0.000000      0.674960      0.679632       0.725386      0.000056   \n",
              "50%        0.000000      0.711643      0.769243       0.873349      0.000120   \n",
              "75%        0.000419      0.784370      0.860167       0.972583      0.000140   \n",
              "max        0.873423      1.000000      1.000000       1.000000      0.981825   \n",
              "\n",
              "              PM2.5         NC0.5         NC1.0         NC2.5           CNT  \n",
              "count  43566.000000  43566.000000  43566.000000  4.356600e+04  43566.000000  \n",
              "mean       0.007013      0.015143      0.006745  4.320700e-03      0.247183  \n",
              "std        0.053495      0.096363      0.052217  4.210613e-02      0.266971  \n",
              "min        0.000000      0.000000      0.000000  0.000000e+00      0.000000  \n",
              "25%        0.000018      0.000090      0.000017  6.993837e-07      0.064618  \n",
              "50%        0.000039      0.000192      0.000036  1.398767e-06      0.134358  \n",
              "75%        0.000046      0.000225      0.000042  1.631895e-06      0.326191  \n",
              "max        0.948553      1.000000      0.946890  9.382591e-01      0.999920  "
            ],
            "text/html": [
              "\n",
              "  <div id=\"df-5e73b7cc-1932-4f92-94a4-5d21bd24ae25\">\n",
              "    <div class=\"colab-df-container\">\n",
              "      <div>\n",
              "<style scoped>\n",
              "    .dataframe tbody tr th:only-of-type {\n",
              "        vertical-align: middle;\n",
              "    }\n",
              "\n",
              "    .dataframe tbody tr th {\n",
              "        vertical-align: top;\n",
              "    }\n",
              "\n",
              "    .dataframe thead th {\n",
              "        text-align: right;\n",
              "    }\n",
              "</style>\n",
              "<table border=\"1\" class=\"dataframe\">\n",
              "  <thead>\n",
              "    <tr style=\"text-align: right;\">\n",
              "      <th></th>\n",
              "      <th>Unnamed: 0</th>\n",
              "      <th>UTC</th>\n",
              "      <th>Temperature[C]</th>\n",
              "      <th>Humidity[%]</th>\n",
              "      <th>TVOC[ppb]</th>\n",
              "      <th>eCO2[ppm]</th>\n",
              "      <th>Raw H2</th>\n",
              "      <th>Raw Ethanol</th>\n",
              "      <th>Pressure[hPa]</th>\n",
              "      <th>PM1.0</th>\n",
              "      <th>PM2.5</th>\n",
              "      <th>NC0.5</th>\n",
              "      <th>NC1.0</th>\n",
              "      <th>NC2.5</th>\n",
              "      <th>CNT</th>\n",
              "    </tr>\n",
              "  </thead>\n",
              "  <tbody>\n",
              "    <tr>\n",
              "      <th>count</th>\n",
              "      <td>43566.000000</td>\n",
              "      <td>43566.000000</td>\n",
              "      <td>43566.000000</td>\n",
              "      <td>43566.000000</td>\n",
              "      <td>43566.000000</td>\n",
              "      <td>43566.000000</td>\n",
              "      <td>43566.000000</td>\n",
              "      <td>43566.000000</td>\n",
              "      <td>43566.000000</td>\n",
              "      <td>43566.000000</td>\n",
              "      <td>43566.000000</td>\n",
              "      <td>43566.000000</td>\n",
              "      <td>43566.000000</td>\n",
              "      <td>4.356600e+04</td>\n",
              "      <td>43566.000000</td>\n",
              "    </tr>\n",
              "    <tr>\n",
              "      <th>mean</th>\n",
              "      <td>0.591298</td>\n",
              "      <td>0.280050</td>\n",
              "      <td>0.489069</td>\n",
              "      <td>0.539138</td>\n",
              "      <td>0.055869</td>\n",
              "      <td>0.007143</td>\n",
              "      <td>0.717195</td>\n",
              "      <td>0.757318</td>\n",
              "      <td>0.830971</td>\n",
              "      <td>0.012725</td>\n",
              "      <td>0.007013</td>\n",
              "      <td>0.015143</td>\n",
              "      <td>0.006745</td>\n",
              "      <td>4.320700e-03</td>\n",
              "      <td>0.247183</td>\n",
              "    </tr>\n",
              "    <tr>\n",
              "      <th>std</th>\n",
              "      <td>0.333578</td>\n",
              "      <td>0.380160</td>\n",
              "      <td>0.180671</td>\n",
              "      <td>0.171095</td>\n",
              "      <td>0.195718</td>\n",
              "      <td>0.042247</td>\n",
              "      <td>0.116850</td>\n",
              "      <td>0.136035</td>\n",
              "      <td>0.145102</td>\n",
              "      <td>0.084556</td>\n",
              "      <td>0.053495</td>\n",
              "      <td>0.096363</td>\n",
              "      <td>0.052217</td>\n",
              "      <td>4.210613e-02</td>\n",
              "      <td>0.266971</td>\n",
              "    </tr>\n",
              "    <tr>\n",
              "      <th>min</th>\n",
              "      <td>0.000000</td>\n",
              "      <td>0.000000</td>\n",
              "      <td>0.000000</td>\n",
              "      <td>0.000000</td>\n",
              "      <td>0.000000</td>\n",
              "      <td>0.000000</td>\n",
              "      <td>0.000000</td>\n",
              "      <td>0.000000</td>\n",
              "      <td>0.000000</td>\n",
              "      <td>0.000000</td>\n",
              "      <td>0.000000</td>\n",
              "      <td>0.000000</td>\n",
              "      <td>0.000000</td>\n",
              "      <td>0.000000e+00</td>\n",
              "      <td>0.000000</td>\n",
              "    </tr>\n",
              "    <tr>\n",
              "      <th>25%</th>\n",
              "      <td>0.337787</td>\n",
              "      <td>0.052738</td>\n",
              "      <td>0.422431</td>\n",
              "      <td>0.499069</td>\n",
              "      <td>0.000783</td>\n",
              "      <td>0.000000</td>\n",
              "      <td>0.674960</td>\n",
              "      <td>0.679632</td>\n",
              "      <td>0.725386</td>\n",
              "      <td>0.000056</td>\n",
              "      <td>0.000018</td>\n",
              "      <td>0.000090</td>\n",
              "      <td>0.000017</td>\n",
              "      <td>6.993837e-07</td>\n",
              "      <td>0.064618</td>\n",
              "    </tr>\n",
              "    <tr>\n",
              "      <th>50%</th>\n",
              "      <td>0.676731</td>\n",
              "      <td>0.118096</td>\n",
              "      <td>0.518129</td>\n",
              "      <td>0.580050</td>\n",
              "      <td>0.002683</td>\n",
              "      <td>0.000000</td>\n",
              "      <td>0.711643</td>\n",
              "      <td>0.769243</td>\n",
              "      <td>0.873349</td>\n",
              "      <td>0.000120</td>\n",
              "      <td>0.000039</td>\n",
              "      <td>0.000192</td>\n",
              "      <td>0.000036</td>\n",
              "      <td>1.398767e-06</td>\n",
              "      <td>0.134358</td>\n",
              "    </tr>\n",
              "    <tr>\n",
              "      <th>75%</th>\n",
              "      <td>0.894250</td>\n",
              "      <td>0.170208</td>\n",
              "      <td>0.590932</td>\n",
              "      <td>0.645517</td>\n",
              "      <td>0.019000</td>\n",
              "      <td>0.000419</td>\n",
              "      <td>0.784370</td>\n",
              "      <td>0.860167</td>\n",
              "      <td>0.972583</td>\n",
              "      <td>0.000140</td>\n",
              "      <td>0.000046</td>\n",
              "      <td>0.000225</td>\n",
              "      <td>0.000042</td>\n",
              "      <td>1.631895e-06</td>\n",
              "      <td>0.326191</td>\n",
              "    </tr>\n",
              "    <tr>\n",
              "      <th>max</th>\n",
              "      <td>1.000000</td>\n",
              "      <td>1.000000</td>\n",
              "      <td>1.000000</td>\n",
              "      <td>1.000000</td>\n",
              "      <td>1.000000</td>\n",
              "      <td>0.873423</td>\n",
              "      <td>1.000000</td>\n",
              "      <td>1.000000</td>\n",
              "      <td>1.000000</td>\n",
              "      <td>0.981825</td>\n",
              "      <td>0.948553</td>\n",
              "      <td>1.000000</td>\n",
              "      <td>0.946890</td>\n",
              "      <td>9.382591e-01</td>\n",
              "      <td>0.999920</td>\n",
              "    </tr>\n",
              "  </tbody>\n",
              "</table>\n",
              "</div>\n",
              "      <button class=\"colab-df-convert\" onclick=\"convertToInteractive('df-5e73b7cc-1932-4f92-94a4-5d21bd24ae25')\"\n",
              "              title=\"Convert this dataframe to an interactive table.\"\n",
              "              style=\"display:none;\">\n",
              "        \n",
              "  <svg xmlns=\"http://www.w3.org/2000/svg\" height=\"24px\"viewBox=\"0 0 24 24\"\n",
              "       width=\"24px\">\n",
              "    <path d=\"M0 0h24v24H0V0z\" fill=\"none\"/>\n",
              "    <path d=\"M18.56 5.44l.94 2.06.94-2.06 2.06-.94-2.06-.94-.94-2.06-.94 2.06-2.06.94zm-11 1L8.5 8.5l.94-2.06 2.06-.94-2.06-.94L8.5 2.5l-.94 2.06-2.06.94zm10 10l.94 2.06.94-2.06 2.06-.94-2.06-.94-.94-2.06-.94 2.06-2.06.94z\"/><path d=\"M17.41 7.96l-1.37-1.37c-.4-.4-.92-.59-1.43-.59-.52 0-1.04.2-1.43.59L10.3 9.45l-7.72 7.72c-.78.78-.78 2.05 0 2.83L4 21.41c.39.39.9.59 1.41.59.51 0 1.02-.2 1.41-.59l7.78-7.78 2.81-2.81c.8-.78.8-2.07 0-2.86zM5.41 20L4 18.59l7.72-7.72 1.47 1.35L5.41 20z\"/>\n",
              "  </svg>\n",
              "      </button>\n",
              "      \n",
              "  <style>\n",
              "    .colab-df-container {\n",
              "      display:flex;\n",
              "      flex-wrap:wrap;\n",
              "      gap: 12px;\n",
              "    }\n",
              "\n",
              "    .colab-df-convert {\n",
              "      background-color: #E8F0FE;\n",
              "      border: none;\n",
              "      border-radius: 50%;\n",
              "      cursor: pointer;\n",
              "      display: none;\n",
              "      fill: #1967D2;\n",
              "      height: 32px;\n",
              "      padding: 0 0 0 0;\n",
              "      width: 32px;\n",
              "    }\n",
              "\n",
              "    .colab-df-convert:hover {\n",
              "      background-color: #E2EBFA;\n",
              "      box-shadow: 0px 1px 2px rgba(60, 64, 67, 0.3), 0px 1px 3px 1px rgba(60, 64, 67, 0.15);\n",
              "      fill: #174EA6;\n",
              "    }\n",
              "\n",
              "    [theme=dark] .colab-df-convert {\n",
              "      background-color: #3B4455;\n",
              "      fill: #D2E3FC;\n",
              "    }\n",
              "\n",
              "    [theme=dark] .colab-df-convert:hover {\n",
              "      background-color: #434B5C;\n",
              "      box-shadow: 0px 1px 3px 1px rgba(0, 0, 0, 0.15);\n",
              "      filter: drop-shadow(0px 1px 2px rgba(0, 0, 0, 0.3));\n",
              "      fill: #FFFFFF;\n",
              "    }\n",
              "  </style>\n",
              "\n",
              "      <script>\n",
              "        const buttonEl =\n",
              "          document.querySelector('#df-5e73b7cc-1932-4f92-94a4-5d21bd24ae25 button.colab-df-convert');\n",
              "        buttonEl.style.display =\n",
              "          google.colab.kernel.accessAllowed ? 'block' : 'none';\n",
              "\n",
              "        async function convertToInteractive(key) {\n",
              "          const element = document.querySelector('#df-5e73b7cc-1932-4f92-94a4-5d21bd24ae25');\n",
              "          const dataTable =\n",
              "            await google.colab.kernel.invokeFunction('convertToInteractive',\n",
              "                                                     [key], {});\n",
              "          if (!dataTable) return;\n",
              "\n",
              "          const docLinkHtml = 'Like what you see? Visit the ' +\n",
              "            '<a target=\"_blank\" href=https://colab.research.google.com/notebooks/data_table.ipynb>data table notebook</a>'\n",
              "            + ' to learn more about interactive tables.';\n",
              "          element.innerHTML = '';\n",
              "          dataTable['output_type'] = 'display_data';\n",
              "          await google.colab.output.renderOutput(dataTable, element);\n",
              "          const docLink = document.createElement('div');\n",
              "          docLink.innerHTML = docLinkHtml;\n",
              "          element.appendChild(docLink);\n",
              "        }\n",
              "      </script>\n",
              "    </div>\n",
              "  </div>\n",
              "  "
            ]
          },
          "metadata": {},
          "execution_count": 143
        }
      ]
    },
    {
      "cell_type": "markdown",
      "source": [
        "knn"
      ],
      "metadata": {
        "id": "Kj8he6M9WM_y"
      }
    },
    {
      "cell_type": "code",
      "source": [
        "from sklearn.model_selection import GridSearchCV\n",
        "from sklearn.neighbors import KNeighborsClassifier\n",
        "\n",
        "knn_optimal = GridSearchCV(KNeighborsClassifier(),\n",
        "                  {'n_neighbors': np.arange(3, 5, 1),\n",
        "                  'p': np.arange(1, 2, 1),\n",
        "                  \"metric\" : [\"euclidean\", \"minkowski\"]\n",
        "                  },\n",
        "                  ).fit(X_train, y_train)\n",
        "\n",
        "\n",
        "\n",
        "pred_train = knn_optimal.predict(X_test)\n",
        "\n",
        "print(classification_report(y_test, pred_train))\n",
        "\n",
        "print(\"Accuracy :\", accuracy_score(y_test, pred_train))\n",
        "\n",
        "y_pred_prob_LR = knn_optimal.predict_proba(X_test)\n",
        "\n",
        "macro_roc_auc_ovr_LR = roc_auc_score(\n",
        "    y_test,\n",
        "    y_pred_prob_LR[:, 1],\n",
        "    multi_class=\"ovr\",\n",
        "    average=\"micro\")\n",
        "\n",
        "print(f\"\\nROC AUC score: {macro_roc_auc_ovr_LR:.2f}\")"
      ],
      "metadata": {
        "colab": {
          "base_uri": "https://localhost:8080/"
        },
        "id": "S4vtWwTzWMvN",
        "outputId": "1fc8b87b-7ee3-4fc7-9b10-37ffcdeacf8c"
      },
      "execution_count": null,
      "outputs": [
        {
          "output_type": "stream",
          "name": "stdout",
          "text": [
            "              precision    recall  f1-score   support\n",
            "\n",
            "         0.0       1.00      1.00      1.00     29114\n",
            "         1.0       1.00      1.00      1.00     14452\n",
            "\n",
            "    accuracy                           1.00     43566\n",
            "   macro avg       1.00      1.00      1.00     43566\n",
            "weighted avg       1.00      1.00      1.00     43566\n",
            "\n",
            "Accuracy : 0.9998622779231511\n",
            "\n",
            "ROC AUC score: 1.00\n"
          ]
        }
      ]
    },
    {
      "cell_type": "markdown",
      "source": [
        "nb"
      ],
      "metadata": {
        "id": "tMUM0y6JYCVp"
      }
    },
    {
      "cell_type": "code",
      "source": [
        "from sklearn.naive_bayes import GaussianNB\n",
        "\n",
        "gnb = GaussianNB()\n",
        "gnb.fit(X_train, y_train)\n",
        "y_pred = gnb.predict(X_test)\n",
        "\n",
        "print(classification_report(y_test, y_pred))\n",
        "print(\"Accuracy :\", accuracy_score(y_test, y_pred))\n",
        "\n",
        "y_pred_prob_LR = gnb.predict_proba(X_test)\n",
        "\n",
        "macro_roc_auc_ovr_LR = roc_auc_score(\n",
        "    y_test,\n",
        "    y_pred_prob_LR[:, 1],\n",
        "    multi_class=\"ovr\",\n",
        "    average=\"micro\")\n",
        "\n",
        "print(f\"\\nROC AUC score: {macro_roc_auc_ovr_LR:.2f}\")"
      ],
      "metadata": {
        "colab": {
          "base_uri": "https://localhost:8080/"
        },
        "id": "99U2YhC7YDZn",
        "outputId": "dc699e0d-52cd-41b5-a355-1f5ff0f022e7"
      },
      "execution_count": null,
      "outputs": [
        {
          "output_type": "stream",
          "name": "stdout",
          "text": [
            "              precision    recall  f1-score   support\n",
            "\n",
            "         0.0       0.98      0.61      0.75     29114\n",
            "         1.0       0.55      0.97      0.71     14452\n",
            "\n",
            "    accuracy                           0.73     43566\n",
            "   macro avg       0.77      0.79      0.73     43566\n",
            "weighted avg       0.84      0.73      0.74     43566\n",
            "\n",
            "Accuracy : 0.7300188220171694\n",
            "\n",
            "ROC AUC score: 0.97\n"
          ]
        }
      ]
    },
    {
      "cell_type": "markdown",
      "source": [
        "sklearn Log_reg\n"
      ],
      "metadata": {
        "id": "qWmpyKJQOE5u"
      }
    },
    {
      "cell_type": "code",
      "source": [
        "from sklearn.linear_model import LogisticRegression\n",
        "from sklearn.metrics import accuracy_score, classification_report\n",
        "from sklearn.metrics import confusion_matrix\n",
        "from sklearn.metrics import roc_auc_score\n",
        "\n",
        "clf = LogisticRegression(random_state=0).fit(X_train_norm, y_train)\n",
        "y_pred_LR = clf.predict(X_test_norm)\n",
        "print(classification_report(y_test, y_pred_LR))\n",
        "\n",
        "print(\"Accuracy :\", accuracy_score(y_test, y_pred_LR))\n",
        "\n",
        "y_pred_prob_LR = clf.predict_proba(X_test_norm)\n",
        "\n",
        "macro_roc_auc_ovr_LR = roc_auc_score(\n",
        "    y_test,\n",
        "    y_pred_prob_LR[:, 1],\n",
        "    multi_class=\"ovr\",\n",
        "    average=\"micro\")\n",
        "\n",
        "print(f\"\\nROC AUC score: {macro_roc_auc_ovr_LR:.2f}\")\n",
        "\n",
        "print(\"\\nConfusion: \\n\", confusion_matrix(y_test, y_pred_LR))"
      ],
      "metadata": {
        "colab": {
          "base_uri": "https://localhost:8080/"
        },
        "id": "XARb5T9pOFW7",
        "outputId": "ced4064d-aa26-4454-eff9-3cefac5e49d6"
      },
      "execution_count": null,
      "outputs": [
        {
          "output_type": "stream",
          "name": "stderr",
          "text": [
            "/usr/local/lib/python3.9/dist-packages/sklearn/linear_model/_logistic.py:458: ConvergenceWarning: lbfgs failed to converge (status=1):\n",
            "STOP: TOTAL NO. of ITERATIONS REACHED LIMIT.\n",
            "\n",
            "Increase the number of iterations (max_iter) or scale the data as shown in:\n",
            "    https://scikit-learn.org/stable/modules/preprocessing.html\n",
            "Please also refer to the documentation for alternative solver options:\n",
            "    https://scikit-learn.org/stable/modules/linear_model.html#logistic-regression\n",
            "  n_iter_i = _check_optimize_result(\n"
          ]
        },
        {
          "output_type": "stream",
          "name": "stdout",
          "text": [
            "              precision    recall  f1-score   support\n",
            "\n",
            "         0.0       0.97      1.00      0.99     29114\n",
            "         1.0       1.00      0.94      0.97     14452\n",
            "\n",
            "    accuracy                           0.98     43566\n",
            "   macro avg       0.98      0.97      0.98     43566\n",
            "weighted avg       0.98      0.98      0.98     43566\n",
            "\n",
            "Accuracy : 0.9800532525363815\n",
            "\n",
            "ROC AUC score: 1.00\n",
            "\n",
            "Confusion: \n",
            " [[29088    26]\n",
            " [  843 13609]]\n"
          ]
        }
      ]
    },
    {
      "cell_type": "markdown",
      "source": [
        "svm"
      ],
      "metadata": {
        "id": "UzTdxicVYNOh"
      }
    },
    {
      "cell_type": "code",
      "source": [
        "from sklearn import svm\n",
        "\n",
        "X_train_svm = X_train[0:5000]\n",
        "y_train_svm = y_train[0:5000]\n",
        "X_test_svm = X_test[0:1000]\n",
        "y_test_svm = y_test[0:1000]\n",
        "\n",
        "clf = svm.SVC(kernel='rbf')\n",
        "clf.fit(X_train_svm , y_train_svm)\n",
        "clf_pred = clf.predict(X_test_svm)\n",
        "\n",
        "\n",
        "print(classification_report(y_test_svm, clf_pred))\n",
        "\n",
        "print(\"Accuracy: \", accuracy_score(y_test_svm, clf_pred))\n",
        "\n",
        "y_pred_prob_LR = gnb.predict_proba(X_test_svm)\n",
        "\n",
        "macro_roc_auc_ovr_LR = roc_auc_score(\n",
        "    y_test_svm,\n",
        "    y_pred_prob_LR[:, 1],\n",
        "    multi_class=\"ovr\",\n",
        "    average=\"micro\")\n",
        "\n",
        "print(\"\\nConfusion: \\n\", confusion_matrix(y_test_svm, clf_pred))\n",
        "\n",
        "print(f\"\\nROC AUC score: {macro_roc_auc_ovr_LR:.2f}\")"
      ],
      "metadata": {
        "colab": {
          "base_uri": "https://localhost:8080/"
        },
        "id": "Rq_wt_RkVU2l",
        "outputId": "179ef86a-4853-4ef6-8552-6fbf38330820"
      },
      "execution_count": null,
      "outputs": [
        {
          "output_type": "stream",
          "name": "stdout",
          "text": [
            "              precision    recall  f1-score   support\n",
            "\n",
            "         0.0       0.68      1.00      0.81       676\n",
            "         1.0       0.00      0.00      0.00       324\n",
            "\n",
            "    accuracy                           0.68      1000\n",
            "   macro avg       0.34      0.50      0.40      1000\n",
            "weighted avg       0.46      0.68      0.55      1000\n",
            "\n",
            "Accuracy:  0.676\n",
            "\n",
            "Confusion: \n",
            " [[676   0]\n",
            " [324   0]]\n",
            "\n",
            "ROC AUC score: 0.96\n"
          ]
        },
        {
          "output_type": "stream",
          "name": "stderr",
          "text": [
            "/usr/local/lib/python3.9/dist-packages/sklearn/metrics/_classification.py:1344: UndefinedMetricWarning: Precision and F-score are ill-defined and being set to 0.0 in labels with no predicted samples. Use `zero_division` parameter to control this behavior.\n",
            "  _warn_prf(average, modifier, msg_start, len(result))\n",
            "/usr/local/lib/python3.9/dist-packages/sklearn/metrics/_classification.py:1344: UndefinedMetricWarning: Precision and F-score are ill-defined and being set to 0.0 in labels with no predicted samples. Use `zero_division` parameter to control this behavior.\n",
            "  _warn_prf(average, modifier, msg_start, len(result))\n",
            "/usr/local/lib/python3.9/dist-packages/sklearn/metrics/_classification.py:1344: UndefinedMetricWarning: Precision and F-score are ill-defined and being set to 0.0 in labels with no predicted samples. Use `zero_division` parameter to control this behavior.\n",
            "  _warn_prf(average, modifier, msg_start, len(result))\n"
          ]
        }
      ]
    },
    {
      "cell_type": "code",
      "source": [
        "def accuracy(actual, predicted):\n",
        "    TPN = 0\n",
        "    for i in range (len(actual)):\n",
        "        if actual[i] == predicted[i]:\n",
        "            TPN += 1\n",
        "    return (TPN / len(actual))\n",
        "\n",
        "def precision(actual, predicted):\n",
        "    TP, FP, FN, TN = 0, 0, 0, 0\n",
        "    for i in range (len(actual)):\n",
        "      if actual[i] == 0 and predicted[i] == 1:\n",
        "        FP += 1\n",
        "      elif actual[i] == 1 and predicted[i] == 1:\n",
        "        TP += 1\n",
        "      elif actual[i] == 1 and predicted[i] == 0:\n",
        "        FN += 1\n",
        "      elif actual[i] == 0 and predicted[i] == 0:\n",
        "        TN += 1\n",
        "    return [[0, TN / (TN + FN)],\n",
        "            [1, TP / (TP + FP)]]\n",
        "\n",
        "def recall(actual, predicted):\n",
        "    TP, FP, FN, TN = 0, 0, 0, 0\n",
        "    for i in range (len(actual)):\n",
        "      if actual[i] == 0 and predicted[i] == 1:\n",
        "        FP += 1\n",
        "      elif actual[i] == 1 and predicted[i] == 1:\n",
        "        TP += 1\n",
        "      elif actual[i] == 1 and predicted[i] == 0:\n",
        "        FN += 1\n",
        "      elif actual[i] == 0 and predicted[i] == 0:\n",
        "        TN += 1\n",
        "    return [[0, TN / (TN + FP)],\n",
        "            [1, TP / (TP + FN)]]\n",
        "\n",
        "def F1_score(actual, predicted):\n",
        "    B = 1\n",
        "    prec = precision(actual, predicted)\n",
        "    rec = recall(actual, predicted)\n",
        "    return [[0, (1 + B ** 2) * prec[0][1] * rec[0][1] / ((B ** 2 * prec[0][1]) + rec[0][1])],\n",
        "            [1, (1 + B ** 2) * prec[1][1] * rec[1][1] / ((B ** 2 * prec[1][1]) + rec[1][1])]]"
      ],
      "metadata": {
        "id": "qbdYiN2MbHb4"
      },
      "execution_count": null,
      "outputs": []
    },
    {
      "cell_type": "code",
      "source": [
        "# import math\n",
        "\n",
        "\n",
        "# class KNN:\n",
        "#     def __init__(self, k=5):\n",
        "#         self.k = k\n",
        "\n",
        "#     def fit(self, X, y):\n",
        "#         self.X_train = X\n",
        "#         self.y_train = y\n",
        "\n",
        "#     def predict(self, X_test):\n",
        "#         y_pred = np.zeros(X_test.shape[0])\n",
        "\n",
        "#         for i, test_sample in enumerate(X_test):\n",
        "#             distances = np.sqrt(np.sum((self.X_train - test_sample)**2, axis=1))\n",
        "#             k_nearest_neighbors = self.y_train[distances.argsort()[:self.k]]\n",
        "#             y_pred[i] = np.bincount(k_nearest_neighbors).argmax()\n",
        "\n",
        "#         return y_pred\n",
        "\n",
        "import math\n",
        "\n",
        "def euclidean_distance(data1, data2):\n",
        "    distance = 0\n",
        "    for i in range (len(data1) - 1):\n",
        "        distance += (data1[i] - data2[i]) ** 2\n",
        "    return math.sqrt(distance)\n",
        "\n",
        "def get_neighbors(train, test, k=1):\n",
        "    distances = [(train[i][-1], euclidean_distance(train[i], test))\n",
        "                  for i in range (len(train))]\n",
        "    distances.sort(key=lambda elem: elem[1])\n",
        "\n",
        "    neighbors = [distances[i][0] for i in range (k)]\n",
        "    return neighbors\n",
        "\n",
        "def prediction(neighbors):\n",
        "    count = {}\n",
        "    for instance in neighbors:\n",
        "        if instance in count:\n",
        "            count[instance] +=1\n",
        "        else :\n",
        "            count[instance] = 1\n",
        "    target = max(count.items(), key=lambda x: x[1])[0]\n",
        "    return target\n",
        "\n",
        "def accuracy2(test, test_prediction):\n",
        "    correct = 0\n",
        "    for i in range (len(test)):\n",
        "        if test[i][-1] == test_prediction[i]:\n",
        "            correct += 1\n",
        "    return (correct / len(test))\n",
        "\n",
        "X_train, X_test, y_train, y_test = train_test_split(X, y, test_size=1/3)\n",
        "y_train = y_train.to_numpy()\n",
        "y_test = y_test.to_numpy()\n",
        "X_train = X_train.to_numpy()\n",
        "X_test = X_test.to_numpy()\n",
        "\n",
        "X_train = X_train[0:2000, :]\n",
        "y_train = y_train[0:2000]\n",
        "X_test = X_test[0:2000, :]\n",
        "y_test = y_test[0:2000]\n",
        "\n",
        "x_train_concat = np.concatenate((X_train, y_train.reshape(-1, 1)), axis=1)\n",
        "x_test_concat = np.concatenate((X_test, y_test.reshape(-1, 1)), axis=1)\n",
        "print(f'X_train shape: {x_train_concat.shape},\\n'\n",
        "      f'X_test shape: {x_test_concat.shape}')\n",
        "\n",
        "predictions = []\n",
        "for x in range (len(x_test_concat)):\n",
        "    neighbors = get_neighbors(x_train_concat, x_test_concat[x], k=5)\n",
        "    result = prediction(neighbors)\n",
        "    predictions.append(result)\n",
        "\n",
        "print(f'My accuracy: {accuracy2(x_test_concat, predictions)}')\n",
        "\n"
      ],
      "metadata": {
        "colab": {
          "base_uri": "https://localhost:8080/"
        },
        "id": "91bhfDTphoMZ",
        "outputId": "88d6d7f2-e05a-46b5-aad3-32e57d51d849"
      },
      "execution_count": null,
      "outputs": [
        {
          "output_type": "stream",
          "name": "stdout",
          "text": [
            "X_train shape: (2000, 16),\n",
            "X_test shape: (2000, 16)\n",
            "My accuracy: 0.9985\n"
          ]
        }
      ]
    },
    {
      "cell_type": "code",
      "source": [
        "from scipy.stats import norm\n",
        "class NaiveBayes:\n",
        "    def __init__(self, X_train, X_test, y_train):\n",
        "        self.X_train = X_train\n",
        "        self.X_test = X_test\n",
        "        self.y_train = y_train\n",
        "\n",
        "    def fit(self):\n",
        "      means = self.X_train.groupby(self.y_train).apply(np.mean)\n",
        "      stds = self.X_train.groupby(self.y_train).apply(np.std)\n",
        "      probs = self.X_train.groupby(self.y_train).apply(lambda x: len(x)) / self.X_train.shape[0]\n",
        "\n",
        "      y_pred = []\n",
        "      for elem in range(self.X_test.shape[0]):\n",
        "          p = {}\n",
        "          for cl in np.unique(self.y_train):\n",
        "              p[cl] = probs.iloc[int(cl)]\n",
        "              for index, param in enumerate(self.X_test.iloc[int(elem)]):\n",
        "                  p[cl] *= norm.pdf(param, means.iloc[int(cl), int(index)], stds.iloc[int(cl), int(index)])\n",
        "          y_pred.append(pd.Series(p).values.argmax())\n",
        "      return y_pred\n",
        "\n",
        "\n",
        "X_train, X_test, y_train, y_test = train_test_split(X, y, test_size=1/3)\n",
        "\n",
        "model = NaiveBayes(X_train, X_test, y_train)\n",
        "y_pred = model.fit()\n",
        "\n",
        "print(accuracy_score(y_test, y_pred))\n"
      ],
      "metadata": {
        "colab": {
          "base_uri": "https://localhost:8080/"
        },
        "id": "knAPa82jhoH8",
        "outputId": "c38020a1-f792-4345-9b95-18dd919cb485"
      },
      "execution_count": null,
      "outputs": [
        {
          "output_type": "stream",
          "name": "stderr",
          "text": [
            "/usr/local/lib/python3.9/dist-packages/numpy/core/fromnumeric.py:3472: FutureWarning: In a future version, DataFrame.mean(axis=None) will return a scalar mean over the entire DataFrame. To retain the old behavior, use 'frame.mean(axis=0)' or just 'frame.mean()'\n",
            "  return mean(axis=axis, dtype=dtype, out=out, **kwargs)\n"
          ]
        },
        {
          "output_type": "stream",
          "name": "stdout",
          "text": [
            "0.7431712803562411\n"
          ]
        }
      ]
    },
    {
      "cell_type": "code",
      "source": [
        "print(recall(y_test,y_pred))"
      ],
      "metadata": {
        "colab": {
          "base_uri": "https://localhost:8080/",
          "height": 165
        },
        "id": "LVo4d1Yqbyzs",
        "outputId": "1e1060b9-578c-401b-91b8-bd9242f7e357"
      },
      "execution_count": null,
      "outputs": [
        {
          "output_type": "error",
          "ename": "NameError",
          "evalue": "ignored",
          "traceback": [
            "\u001b[0;31m---------------------------------------------------------------------------\u001b[0m",
            "\u001b[0;31mNameError\u001b[0m                                 Traceback (most recent call last)",
            "\u001b[0;32m<ipython-input-4-9b516d0d0ab3>\u001b[0m in \u001b[0;36m<module>\u001b[0;34m\u001b[0m\n\u001b[0;32m----> 1\u001b[0;31m \u001b[0mprint\u001b[0m\u001b[0;34m(\u001b[0m\u001b[0mrecall\u001b[0m\u001b[0;34m(\u001b[0m\u001b[0my_test\u001b[0m\u001b[0;34m,\u001b[0m\u001b[0my_pred\u001b[0m\u001b[0;34m)\u001b[0m\u001b[0;34m)\u001b[0m\u001b[0;34m\u001b[0m\u001b[0;34m\u001b[0m\u001b[0m\n\u001b[0m",
            "\u001b[0;31mNameError\u001b[0m: name 'y_test' is not defined"
          ]
        }
      ]
    }
  ]
}